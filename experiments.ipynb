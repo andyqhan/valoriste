{
 "cells": [
  {
   "cell_type": "code",
   "execution_count": 1,
   "metadata": {},
   "outputs": [],
   "source": [
    "import requests\n",
    "import json\n",
    "import sys\n",
    "from oauthclient.oauth2api import oauth2api\n",
    "from oauthclient.credentialutil import credentialutil\n",
    "from oauthclient.model import model"
   ]
  },
  {
   "cell_type": "code",
   "execution_count": 2,
   "metadata": {},
   "outputs": [],
   "source": [
    "credentialutil.load('ebay-config-sample.yaml')"
   ]
  },
  {
   "cell_type": "code",
   "execution_count": 4,
   "metadata": {},
   "outputs": [],
   "source": [
    "oauth_inst = oauth2api()\n",
    "token = oauth_inst.get_application_token(model.environment.PRODUCTION, [\"https://api.ebay.com/oauth/api_scope\"])"
   ]
  },
  {
   "cell_type": "code",
   "execution_count": 6,
   "metadata": {},
   "outputs": [],
   "source": [
    "res = requests.get(\n",
    "    \"https://api.ebay.com/buy/browse/v1/item_summary/search?q=drone&limit=3\",\n",
    "    headers={\"Authorization\": \"Bearer \" + token.access_token}\n",
    ")"
   ]
  },
  {
   "cell_type": "code",
   "execution_count": 7,
   "metadata": {},
   "outputs": [
    {
     "data": {
      "text/plain": [
       "{'href': 'https://api.ebay.com/buy/browse/v1/item_summary/search?q=drone&limit=3&offset=0',\n",
       " 'total': 35487,\n",
       " 'next': 'https://api.ebay.com/buy/browse/v1/item_summary/search?q=drone&limit=3&offset=3',\n",
       " 'limit': 3,\n",
       " 'offset': 0,\n",
       " 'itemSummaries': [{'itemId': 'v1|145536784037|0',\n",
       "   'title': 'Used Potensic ATOM 3-Axis Gimbal GPS Drone Fly More Combo 4K Camera Quadcopter',\n",
       "   'leafCategoryIds': ['179697'],\n",
       "   'categories': [{'categoryId': '179697', 'categoryName': 'Camera Drones'},\n",
       "    {'categoryId': '625', 'categoryName': 'Cameras & Photo'}],\n",
       "   'image': {'imageUrl': 'https://i.ebayimg.com/images/g/ZkYAAOSwxExlmBK4/s-l225.jpg'},\n",
       "   'price': {'value': '223.99', 'currency': 'USD'},\n",
       "   'itemHref': 'https://api.ebay.com/buy/browse/v1/item/v1%7C145536784037%7C0',\n",
       "   'seller': {'username': 'potensic_store',\n",
       "    'feedbackPercentage': '99.2',\n",
       "    'feedbackScore': 3379},\n",
       "   'marketingPrice': {'originalPrice': {'value': '379.99', 'currency': 'USD'},\n",
       "    'discountPercentage': '41',\n",
       "    'discountAmount': {'value': '156.00', 'currency': 'USD'},\n",
       "    'priceTreatment': 'MARKDOWN'},\n",
       "   'condition': 'Used',\n",
       "   'conditionId': '3000',\n",
       "   'thumbnailImages': [{'imageUrl': 'https://i.ebayimg.com/images/g/ZkYAAOSwxExlmBK4/s-l1600.jpg'}],\n",
       "   'shippingOptions': [{'shippingCostType': 'FIXED',\n",
       "     'shippingCost': {'value': '0.00', 'currency': 'USD'}}],\n",
       "   'buyingOptions': ['FIXED_PRICE'],\n",
       "   'epid': '15063511625',\n",
       "   'itemWebUrl': 'https://www.ebay.com/itm/145536784037?_skw=drone&hash=item21e2ab16a5:g:ZkYAAOSwxExlmBK4&amdata=enc%3AAQAJAAAA4H%2FqIbIc6o8B4%2BvpFzQyE8VedDzu8TDFr--T5SLE5QbthHVzdWS0gvzpjxSmYGv5JhhKPxzsbxE%2BplBIW%2BkGWeS1yDReBeb88bKARH9SXqtVRvrYS2%2ByDM3LxZi0JI6VbHTyu7kAge07DHd3T45rowbVLAJiT8I%2Bi97I7KFocDqN8w%2BhnVX3vTX7p4p27La4ArHlWTkH6PuT3UMb0kKBVaRRA9VeVOarj9lLUrNT02cwZKiqUXZlNYx5ZYoD9foDhJSmDHsmgArV9A2PjrRM4z6doWVswi25z%2FUDn01IOPzt',\n",
       "   'itemLocation': {'postalCode': '917**', 'country': 'US'},\n",
       "   'additionalImages': [{'imageUrl': 'https://i.ebayimg.com/images/g/lx8AAOSwW4xlmBLg/s-l225.jpg'},\n",
       "    {'imageUrl': 'https://i.ebayimg.com/images/g/I4AAAOSwiRVlmBLg/s-l225.jpg'},\n",
       "    {'imageUrl': 'https://i.ebayimg.com/images/g/MQ8AAOSw1I9lmBLg/s-l225.jpg'},\n",
       "    {'imageUrl': 'https://i.ebayimg.com/images/g/YasAAOSwarFlmBLg/s-l225.jpg'},\n",
       "    {'imageUrl': 'https://i.ebayimg.com/images/g/wtgAAOSwLjFlmBLh/s-l225.jpg'}],\n",
       "   'adultOnly': False,\n",
       "   'legacyItemId': '145536784037',\n",
       "   'availableCoupons': False,\n",
       "   'itemCreationDate': '2024-01-05T14:32:42.000Z',\n",
       "   'topRatedBuyingExperience': True,\n",
       "   'priorityListing': True,\n",
       "   'listingMarketplaceId': 'EBAY_US'},\n",
       "  {'itemId': 'v1|145450205843|0',\n",
       "   'title': 'Used Potensic ATOM SE GPS Drone Fly More Combo 4K EIS Camera Foldable Quadcopter',\n",
       "   'leafCategoryIds': ['179697'],\n",
       "   'categories': [{'categoryId': '179697', 'categoryName': 'Camera Drones'},\n",
       "    {'categoryId': '625', 'categoryName': 'Cameras & Photo'}],\n",
       "   'image': {'imageUrl': 'https://i.ebayimg.com/images/g/FO4AAOSwVJBlXHSP/s-l225.jpg'},\n",
       "   'price': {'value': '193.91', 'currency': 'USD'},\n",
       "   'itemHref': 'https://api.ebay.com/buy/browse/v1/item/v1%7C145450205843%7C0',\n",
       "   'seller': {'username': 'potensic_store',\n",
       "    'feedbackPercentage': '99.2',\n",
       "    'feedbackScore': 3379},\n",
       "   'marketingPrice': {'originalPrice': {'value': '298.32', 'currency': 'USD'},\n",
       "    'discountPercentage': '35',\n",
       "    'discountAmount': {'value': '104.41', 'currency': 'USD'},\n",
       "    'priceTreatment': 'MARKDOWN'},\n",
       "   'condition': 'Used',\n",
       "   'conditionId': '3000',\n",
       "   'thumbnailImages': [{'imageUrl': 'https://i.ebayimg.com/images/g/FO4AAOSwVJBlXHSP/s-l1600.jpg'}],\n",
       "   'shippingOptions': [{'shippingCostType': 'FIXED',\n",
       "     'shippingCost': {'value': '0.00', 'currency': 'USD'}}],\n",
       "   'buyingOptions': ['FIXED_PRICE'],\n",
       "   'itemWebUrl': 'https://www.ebay.com/itm/145450205843?_skw=drone&hash=item21dd820293:g:FO4AAOSwVJBlXHSP&amdata=enc%3AAQAJAAAA4H%2FqIbIc6o8B4%2BvpFzQyE8XuUpepTp8h3U5IdbzVGeY8PslE%2Fq9FPgDpenoMJjqXuNy8Lakep%2BLKPm%2BIaCT4Jt7I6argZOuGvGfAy8EmoNTsxtNQKiZF3EzpnFMwZ045rlQrWCLHN2OK5ZCHg1iEHaQWL9iR6%2FjPdytYK%2B1JlOQi34cgIHw1LfWqJEBu%2Fj9hDSmjTkZhzIfWzBlb%2BwORC0eONgF3Lb4FidZ8rXKD7dDM9rAy7x73rrKfxU6KIvY6PYBGZVWyyRMBpJiVX4VVztC0CDOm3PJhuePL0xH2nfCS',\n",
       "   'itemLocation': {'postalCode': '917**', 'country': 'US'},\n",
       "   'additionalImages': [{'imageUrl': 'https://i.ebayimg.com/images/g/cZ8AAOSwxdxlXHSp/s-l225.jpg'},\n",
       "    {'imageUrl': 'https://i.ebayimg.com/images/g/FtEAAOSwWJZlXHSp/s-l225.jpg'},\n",
       "    {'imageUrl': 'https://i.ebayimg.com/images/g/mKIAAOSwcU1lXHSq/s-l225.jpg'},\n",
       "    {'imageUrl': 'https://i.ebayimg.com/images/g/2w8AAOSwULVlXHSp/s-l225.jpg'},\n",
       "    {'imageUrl': 'https://i.ebayimg.com/images/g/pBAAAOSwEONlXHSq/s-l225.jpg'},\n",
       "    {'imageUrl': 'https://i.ebayimg.com/images/g/UN0AAOSweV9lXHSq/s-l225.jpg'}],\n",
       "   'adultOnly': False,\n",
       "   'legacyItemId': '145450205843',\n",
       "   'availableCoupons': False,\n",
       "   'itemCreationDate': '2023-11-21T09:23:10.000Z',\n",
       "   'topRatedBuyingExperience': True,\n",
       "   'priorityListing': True,\n",
       "   'listingMarketplaceId': 'EBAY_US'},\n",
       "  {'itemId': 'v1|286024479434|0',\n",
       "   'title': 'Power Vision Water Drone PowerRay Wizard 4K HD Video Recording Camera',\n",
       "   'leafCategoryIds': ['179697'],\n",
       "   'categories': [{'categoryId': '179697', 'categoryName': 'Camera Drones'},\n",
       "    {'categoryId': '625', 'categoryName': 'Cameras & Photo'}],\n",
       "   'image': {'imageUrl': 'https://i.ebayimg.com/images/g/rFEAAOSw709muPpG/s-l225.jpg'},\n",
       "   'price': {'value': '200.00', 'currency': 'USD'},\n",
       "   'itemHref': 'https://api.ebay.com/buy/browse/v1/item/v1%7C286024479434%7C0',\n",
       "   'seller': {'username': 'licha_5',\n",
       "    'feedbackPercentage': '90.5',\n",
       "    'feedbackScore': 20},\n",
       "   'condition': 'New',\n",
       "   'conditionId': '1000',\n",
       "   'thumbnailImages': [{'imageUrl': 'https://i.ebayimg.com/images/g/rFEAAOSw709muPpG/s-l1600.jpg'}],\n",
       "   'pickupOptions': [{'pickupLocationType': 'ARRANGED_LOCATION'}],\n",
       "   'buyingOptions': ['FIXED_PRICE', 'BEST_OFFER'],\n",
       "   'epid': '3049623823',\n",
       "   'itemWebUrl': 'https://www.ebay.com/itm/286024479434?_skw=drone&hash=item42986332ca:g:rFEAAOSw709muPpG&amdata=enc%3AAQAJAAAA4H%2FqIbIc6o8B4%2BvpFzQyE8UQUden6KfwUvT0CdBDQKUGdi2Z8MLuxrTdzRtL2Ha1fxOc4RdEDVJoiquqqwhgwCct7QXEWkcuFk7MePdDtlyxBrxNmLElut7DhQkV3z%2F4JL1ck4sU15Tydadtib6DR5aoCuS%2FmpMVyGaF7KbM8O0PKuSgM%2BplLAGxEDRJqTD2%2F4oInghgUdDMO09kYg32bL062ez%2FqBxwaw2aK8HmJb15w2wTJAa4clI8dZJeQyHvayol4EkNW57NuBtDNoUaQsDFhWZIgc82DPnRfOacORTA',\n",
       "   'itemLocation': {'postalCode': '761**', 'country': 'US'},\n",
       "   'additionalImages': [{'imageUrl': 'https://i.ebayimg.com/images/g/nbcAAOSwpD9muPpG/s-l225.jpg'},\n",
       "    {'imageUrl': 'https://i.ebayimg.com/images/g/0dYAAOSwpjJmuPn3/s-l225.jpg'},\n",
       "    {'imageUrl': 'https://i.ebayimg.com/images/g/absAAOSwlmdmuPn4/s-l225.jpg'},\n",
       "    {'imageUrl': 'https://i.ebayimg.com/images/g/jgcAAOSw-jZmuPn4/s-l225.jpg'},\n",
       "    {'imageUrl': 'https://i.ebayimg.com/images/g/Y3cAAOSwm4dmuPn5/s-l225.jpg'},\n",
       "    {'imageUrl': 'https://i.ebayimg.com/images/g/p20AAOSw~4BmuPn6/s-l225.jpg'},\n",
       "    {'imageUrl': 'https://i.ebayimg.com/images/g/970AAOSw9DVmuPn6/s-l225.jpg'},\n",
       "    {'imageUrl': 'https://i.ebayimg.com/images/g/UaUAAOSwtrNmuPn7/s-l225.jpg'},\n",
       "    {'imageUrl': 'https://i.ebayimg.com/images/g/bXMAAOSwl1tmuPpH/s-l225.jpg'},\n",
       "    {'imageUrl': 'https://i.ebayimg.com/images/g/QocAAOSwoiRmuPpI/s-l225.jpg'},\n",
       "    {'imageUrl': 'https://i.ebayimg.com/images/g/RcYAAOSwnEdmuPpI/s-l225.jpg'}],\n",
       "   'adultOnly': False,\n",
       "   'legacyItemId': '286024479434',\n",
       "   'availableCoupons': False,\n",
       "   'itemCreationDate': '2024-08-22T16:55:41.000Z',\n",
       "   'topRatedBuyingExperience': False,\n",
       "   'priorityListing': True,\n",
       "   'listingMarketplaceId': 'EBAY_US'}],\n",
       " 'refinement': {}}"
      ]
     },
     "execution_count": 7,
     "metadata": {},
     "output_type": "execute_result"
    }
   ],
   "source": [
    "res.json()"
   ]
  }
 ],
 "metadata": {
  "kernelspec": {
   "display_name": "Python 3 (ipykernel)",
   "language": "python",
   "name": "python3"
  },
  "language_info": {
   "codemirror_mode": {
    "name": "ipython",
    "version": 3
   },
   "file_extension": ".py",
   "mimetype": "text/x-python",
   "name": "python",
   "nbconvert_exporter": "python",
   "pygments_lexer": "ipython3",
   "version": "3.9.20"
  }
 },
 "nbformat": 4,
 "nbformat_minor": 2
}
